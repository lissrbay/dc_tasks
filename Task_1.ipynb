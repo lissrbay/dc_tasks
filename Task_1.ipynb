{
 "cells": [
  {
   "cell_type": "markdown",
   "metadata": {},
   "source": [
    "# Задание 1\n",
    "\n",
    "[Свертка списка](https://ru.wikipedia.org/wiki/%D0%A1%D0%B2%D1%91%D1%80%D1%82%D0%BA%D0%B0_%D1%81%D0%BF%D0%B8%D1%81%D0%BA%D0%B0) -  это обобщенная операция над списком, c помощью которой можно преобразовать список в единое значение. Например, рассмотрим реализации свертки слева и свертки справа (левоассоциативную свертку и правоассоциативную свертку):"
   ]
  },
  {
   "cell_type": "code",
   "execution_count": 1,
   "metadata": {
    "collapsed": true,
    "jupyter": {
     "outputs_hidden": true
    }
   },
   "outputs": [],
   "source": [
    "def foldl(f, x0, lst):\n",
    "    if not lst:\n",
    "        return x0\n",
    "    return foldl(f, f(x0, lst[0]), lst[1:])\n",
    "\n",
    "def foldr(f, x0, lst):\n",
    "    if not lst:\n",
    "        return x0\n",
    "    return f(lst[0], foldr(f, x0, lst[1:]))"
   ]
  },
  {
   "cell_type": "code",
   "execution_count": 2,
   "metadata": {},
   "outputs": [
    {
     "output_type": "execute_result",
     "data": {
      "text/plain": "6"
     },
     "metadata": {},
     "execution_count": 2
    }
   ],
   "source": [
    "#сумма\n",
    "foldl(lambda x, y: x + y, 0, [1, 2, 3])"
   ]
  },
  {
   "cell_type": "code",
   "execution_count": 3,
   "metadata": {},
   "outputs": [
    {
     "output_type": "execute_result",
     "data": {
      "text/plain": "'123'"
     },
     "metadata": {},
     "execution_count": 3
    }
   ],
   "source": [
    "#конкатенация\n",
    "foldl(lambda x, y: '{}{}'.format(x, y), '', [1, 2, 3])"
   ]
  },
  {
   "cell_type": "code",
   "execution_count": 4,
   "metadata": {},
   "outputs": [
    {
     "output_type": "execute_result",
     "data": {
      "text/plain": "(0.16666666666666666, 1.5)"
     },
     "metadata": {},
     "execution_count": 4
    }
   ],
   "source": [
    "f = lambda x, y: x / y\n",
    "foldl(f, 1, [1, 2, 3]), \\\n",
    "foldr(f, 1, [1, 2, 3])"
   ]
  },
  {
   "cell_type": "markdown",
   "metadata": {},
   "source": [
    "Задача: реализовать foldl через foldr и наоборот. Вместо многоточий нужно вставить выражения, которые бы привели к нужному результату. Модифицировать сам список нельзя. "
   ]
  },
  {
   "cell_type": "code",
   "execution_count": 5,
   "metadata": {
    "collapsed": true,
    "jupyter": {
     "outputs_hidden": true
    }
   },
   "outputs": [],
   "source": [
    "def foldl2(f, x0, lst):\n",
    "    return foldr(lambda l, g : (lambda x: g(f(x, l))), lambda x: x, lst)(x0)"
   ]
  },
  {
   "cell_type": "code",
   "execution_count": 6,
   "metadata": {},
   "outputs": [
    {
     "output_type": "execute_result",
     "data": {
      "text/plain": "0.16666666666666666"
     },
     "metadata": {},
     "execution_count": 6
    }
   ],
   "source": [
    "foldl2(f, 1, [1, 2, 3])"
   ]
  },
  {
   "cell_type": "code",
   "execution_count": 7,
   "metadata": {
    "collapsed": true,
    "jupyter": {
     "outputs_hidden": true
    }
   },
   "outputs": [],
   "source": [
    "def foldr2(f, x0, lst):\n",
    "    return foldr(lambda l, g : (lambda x: g(f(l, x))), lambda x: x, lst)(x0)"
   ]
  },
  {
   "cell_type": "code",
   "execution_count": 8,
   "metadata": {},
   "outputs": [
    {
     "output_type": "execute_result",
     "data": {
      "text/plain": "1.5"
     },
     "metadata": {},
     "execution_count": 8
    }
   ],
   "source": [
    "foldr2(f, 1, [1, 2, 3])"
   ]
  },
  {
   "cell_type": "markdown",
   "metadata": {},
   "source": [
    "# Задание 2\n",
    "\n",
    "нужно написать функцию, которая принимает две строки и проверяет, входит ли хотя бы одна перестановка второй строки в первую. Например:\n",
    "\n",
    "> a = 'abcrotm'\n",
    "> \n",
    "> b = 'tro'\n",
    "\n",
    "функция def check_inv(a, b) вернет True, так как 'rot' содержится в 'abcrotm'. Нужно подумать как можно более оптимальный алгоритм и оценить его сложность. "
   ]
  },
  {
   "cell_type": "code",
   "execution_count": 22,
   "metadata": {
    "collapsed": true,
    "jupyter": {
     "outputs_hidden": true
    },
    "tags": []
   },
   "outputs": [
    {
     "output_type": "execute_result",
     "data": {
      "text/plain": [
       "(False, True)"
      ]
     },
     "metadata": {},
     "execution_count": 22
    }
   ],
   "source": [
    "from collections import Counter\n",
    "def check_letter(s, f, count_a, count_b):\n",
    "    if count_a == count_b:\n",
    "        s += 1\n",
    "    if count_a != count_b and f:\n",
    "        s -= 1\n",
    "\n",
    "    return s\n",
    "\n",
    "def step_up(c, s, a, b, d_a, d_b):\n",
    "    char_a = a[c]\n",
    "    char_b = b[c]\n",
    "    if (char_a in b) and (char_b in a):\n",
    "        f_a = (d_a[char_a] == d_b[char_a] and d_a[char_a] > 0)\n",
    "        f_b = (d_a[char_b] == d_b[char_b] and d_a[char_b] > 0)\n",
    "        d_a[char_a] += 1\n",
    "        s = check_letter(s, f_a, d_a[char_a], d_b[char_a])\n",
    "        d_b[char_b] += 1\n",
    "        s = check_letter(s, f_b, d_a[char_b], d_b[char_b])\n",
    "    else:\n",
    "        d_a[char_a] += 1\n",
    "        d_b[char_b] += 1\n",
    "    return s, d_a, d_b\n",
    "\n",
    "def step_a(c, s, a, d_a, d_b, step=1):\n",
    "    char_a = a[c]\n",
    "    if (char_a in d_b):\n",
    "        f_a = (d_a[char_a] == d_b[char_a] and d_a[char_a] > 0)\n",
    "        d_a[char_a] += step\n",
    "        s = check_letter(s, f_a, d_a[char_a], d_b[char_a])\n",
    "    else:\n",
    "        d_a[char_a] += step\n",
    "    return s, d_a, d_b\n",
    "\n",
    "def check_inv(a, b):\n",
    "    if len(b) >= len(a):\n",
    "        return False\n",
    "    d_a = {char:0 for char in set(a)}\n",
    "    d_b = {char:0 for char in set(b)}\n",
    "    i, j = 0, len(b) - 1\n",
    "    s = 0\n",
    "    for c in range(len(b)):\n",
    "        s, d_a, d_b = step_up(c, s, a, b, d_a, d_b)\n",
    "\n",
    "    if s == len(b):\n",
    "        return True\n",
    "    while j < len(a)-1:\n",
    "        i += 1\n",
    "        s, d_a, d_b = step_a(i-1, s, a, d_a, d_b, -1)\n",
    "        j += 1\n",
    "        s, d_a, d_b = step_a(j, s, a, d_a, d_b, 1)\n",
    "        if s == len(b):\n",
    "            return True\n",
    "    return False\n",
    "\n",
    "check_inv('abcrotm', 'ttro'), check_inv('abcrotm', 'tro')"
   ]
  },
  {
   "source": [
    "Создание словаря - $O(len(a))+O(len(b)) = 2 * O(len(b))$ (т.к. $len(b) >= len(a)$), затем проxод окном в цикле по строке а в $O(len(a)) со сравнениями и обращением к элементу словаря(есть проверка на наличие, но словарь ограничен размером алфавита, так что он констатен). В общем, сложность линейная O(len(a)) и зависит от длины первой строки."
   ],
   "cell_type": "markdown",
   "metadata": {}
  },
  {
   "cell_type": "markdown",
   "metadata": {},
   "source": [
    "# Задание 3\n",
    "\n",
    "Реализовать бинарное дерево (класс Tree), в нём методы __repr__, __str__, __iter__ (итерация только по листьям)."
   ]
  },
  {
   "cell_type": "code",
   "execution_count": 10,
   "metadata": {
    "tags": []
   },
   "outputs": [
    {
     "output_type": "execute_result",
     "data": {
      "text/plain": "(True,\n [3, 4, 2],\n Tree(0, Tree(1, Tree(3, None, None), Tree(4, None, None)), Tree(2, None, None)))"
     },
     "metadata": {},
     "execution_count": 10
    }
   ],
   "source": [
    "class Tree:\n",
    "    def __init__(self, value=None, left=None, right=None):\n",
    "        self.left = left\n",
    "        self.right = right\n",
    "        self.value = value\n",
    "        \n",
    "    def __iter__(self):\n",
    "        if self.left == None and self.right == None:\n",
    "            yield self.value\n",
    "        if self.left != None:\n",
    "            for node in self.left:\n",
    "                yield node\n",
    "        if self.right != None:\n",
    "            for node in self.right:\n",
    "                yield node\n",
    "\n",
    "    def __str__(self):\n",
    "        return str(self.value)\n",
    "    \n",
    "    def __repr__(self):\n",
    "        return 'Tree({v}, {l}, {r})'.format(v = self.value, l = repr(self.left), r = repr(self.right))\n",
    "\n",
    "tree = Tree(0, Tree(1, Tree(3), Tree(4)),                             \n",
    "               Tree(2))\n",
    "\n",
    "list(tree) == [3, 4, 2], list(tree), tree"
   ]
  },
  {
   "cell_type": "markdown",
   "metadata": {},
   "source": [
    "# Задание 4\n",
    "\n",
    "Реализовать простейший калькулятор математических выражений:\n",
    "- только целые числа\n",
    "- **+**, **\\-**, **\\***, **\\**\n",
    "- скобки\n",
    "\n",
    "**Можно использовать регулярные выражения**"
   ]
  },
  {
   "cell_type": "code",
   "execution_count": 27,
   "metadata": {},
   "outputs": [
    {
     "output_type": "execute_result",
     "data": {
      "text/plain": "(True, 4)"
     },
     "metadata": {},
     "execution_count": 27
    }
   ],
   "source": [
    "import operator\n",
    "\n",
    "def calc(expr):\n",
    "    expr = expr.replace('(', '( ').replace(')', ' )').split()\n",
    "    nums = []\n",
    "    ops = []\n",
    "    i = 0\n",
    "    priority = {'-':0, '+':0, '*':1, '/':1, '(':0, ')':0}\n",
    "    for t in expr:\n",
    "        if t.isalnum():\n",
    "            nums.append(t)\n",
    "        elif t in ['+', '-', '*', '/']:\n",
    "            while len(ops) > 0 and ops[-1] != '(' and (priority[t] < priority[ops[-1]] or priority[t] == priority[ops[-1]]):\n",
    "                nums.append(ops.pop())\n",
    "            ops.append(t)\n",
    "        elif t == '(':\n",
    "            ops.append(t)\n",
    "        elif t == ')':\n",
    "            while ops[-1] != '(':\n",
    "                nums.append(ops.pop())\n",
    "            if ops[-1] == '(':\n",
    "                ops.pop()\n",
    "    nums.extend(ops)\n",
    "    return compute(nums)\n",
    "\n",
    "def compute(rpn):\n",
    "    ops = {'-': operator.sub, '+': operator.add, '*': operator.mul, '/':operator.truediv}\n",
    "    i = 0\n",
    "    s = []\n",
    "    for i in l:\n",
    "        if i.isalnum():\n",
    "            s.append(i)\n",
    "        else:\n",
    "            s1 = int(s.pop())\n",
    "            s2 = int(s.pop())\n",
    "            op = ops[i]\n",
    "            s.append(op(s2, s1))\n",
    "    return s.pop()\n",
    "\n",
    "\n",
    "calc('2 * (15 - 3 * 4) - 2') == 4"
   ]
  },
  {
   "cell_type": "code",
   "execution_count": null,
   "metadata": {},
   "outputs": [],
   "source": []
  }
 ],
 "metadata": {
  "kernelspec": {
   "display_name": "Python 3",
   "language": "python",
   "name": "python3"
  },
  "language_info": {
   "codemirror_mode": {
    "name": "ipython",
    "version": 3
   },
   "file_extension": ".py",
   "mimetype": "text/x-python",
   "name": "python",
   "nbconvert_exporter": "python",
   "pygments_lexer": "ipython3",
   "version": "3.8.3-final"
  }
 },
 "nbformat": 4,
 "nbformat_minor": 4
}